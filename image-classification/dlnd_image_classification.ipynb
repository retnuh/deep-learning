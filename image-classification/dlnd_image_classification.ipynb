{
 "cells": [
  {
   "cell_type": "markdown",
   "metadata": {
    "collapsed": true,
    "deletable": true,
    "editable": true
   },
   "source": [
    "# Image Classification\n",
    "In this project, you'll classify images from the [CIFAR-10 dataset](https://www.cs.toronto.edu/~kriz/cifar.html).  The dataset consists of airplanes, dogs, cats, and other objects. You'll preprocess the images, then train a convolutional neural network on all the samples. The images need to be normalized and the labels need to be one-hot encoded.  You'll get to apply what you learned and build a convolutional, max pooling, dropout, and fully connected layers.  At the end, you'll get to see your neural network's predictions on the sample images.\n",
    "## Get the Data\n",
    "Run the following cell to download the [CIFAR-10 dataset for python](https://www.cs.toronto.edu/~kriz/cifar-10-python.tar.gz)."
   ]
  },
  {
   "cell_type": "code",
   "execution_count": 1,
   "metadata": {
    "collapsed": false,
    "deletable": true,
    "editable": true
   },
   "outputs": [
    {
     "name": "stderr",
     "output_type": "stream",
     "text": [
      "CIFAR-10 Dataset: 171MB [01:38, 1.73MB/s]                              \n"
     ]
    },
    {
     "name": "stdout",
     "output_type": "stream",
     "text": [
      "All files found!\n"
     ]
    }
   ],
   "source": [
    "\"\"\"\n",
    "DON'T MODIFY ANYTHING IN THIS CELL THAT IS BELOW THIS LINE\n",
    "\"\"\"\n",
    "from urllib.request import urlretrieve\n",
    "from os.path import isfile, isdir\n",
    "from tqdm import tqdm\n",
    "import problem_unittests as tests\n",
    "import tarfile\n",
    "\n",
    "cifar10_dataset_folder_path = 'cifar-10-batches-py'\n",
    "\n",
    "class DLProgress(tqdm):\n",
    "    last_block = 0\n",
    "\n",
    "    def hook(self, block_num=1, block_size=1, total_size=None):\n",
    "        self.total = total_size\n",
    "        self.update((block_num - self.last_block) * block_size)\n",
    "        self.last_block = block_num\n",
    "\n",
    "if not isfile('cifar-10-python.tar.gz'):\n",
    "    with DLProgress(unit='B', unit_scale=True, miniters=1, desc='CIFAR-10 Dataset') as pbar:\n",
    "        urlretrieve(\n",
    "            'https://www.cs.toronto.edu/~kriz/cifar-10-python.tar.gz',\n",
    "            'cifar-10-python.tar.gz',\n",
    "            pbar.hook)\n",
    "\n",
    "if not isdir(cifar10_dataset_folder_path):\n",
    "    with tarfile.open('cifar-10-python.tar.gz') as tar:\n",
    "        tar.extractall()\n",
    "        tar.close()\n",
    "\n",
    "\n",
    "tests.test_folder_path(cifar10_dataset_folder_path)"
   ]
  },
  {
   "cell_type": "markdown",
   "metadata": {
    "deletable": true,
    "editable": true
   },
   "source": [
    "## Explore the Data\n",
    "The dataset is broken into batches to prevent your machine from running out of memory.  The CIFAR-10 dataset consists of 5 batches, named `data_batch_1`, `data_batch_2`, etc.. Each batch contains the labels and images that are one of the following:\n",
    "* airplane\n",
    "* automobile\n",
    "* bird\n",
    "* cat\n",
    "* deer\n",
    "* dog\n",
    "* frog\n",
    "* horse\n",
    "* ship\n",
    "* truck\n",
    "\n",
    "Understanding a dataset is part of making predictions on the data.  Play around with the code cell below by changing the `batch_id` and `sample_id`. The `batch_id` is the id for a batch (1-5). The `sample_id` is the id for a image and label pair in the batch.\n",
    "\n",
    "Ask yourself \"What are all possible labels?\", \"What is the range of values for the image data?\", \"Are the labels in order or random?\".  Answers to questions like these will help you preprocess the data and end up with better predictions."
   ]
  },
  {
   "cell_type": "code",
   "execution_count": 2,
   "metadata": {
    "collapsed": false,
    "deletable": true,
    "editable": true
   },
   "outputs": [
    {
     "name": "stdout",
     "output_type": "stream",
     "text": [
      "\n",
      "Stats of batch 3:\n",
      "Samples: 10000\n",
      "Label Counts: {0: 994, 1: 1042, 2: 965, 3: 997, 4: 990, 5: 1029, 6: 978, 7: 1015, 8: 961, 9: 1029}\n",
      "First 20 Labels: [8, 5, 0, 6, 9, 2, 8, 3, 6, 2, 7, 4, 6, 9, 0, 0, 7, 3, 7, 2]\n",
      "\n",
      "Example of Image 5:\n",
      "Image - Min Value: 9 Max Value: 255\n",
      "Image - Shape: (32, 32, 3)\n",
      "Label - Label Id: 2 Name: bird\n"
     ]
    },
    {
     "data": {
      "image/png": "[encoded data removed]",
      "text/plain": [
       "<matplotlib.figure.Figure at 0x7efff82ab5c0>"
      ]
     },
     "metadata": {
      "image/png": {
       "height": 250,
       "width": 253
      }
     },
     "output_type": "display_data"
    }
   ],
   "source": [
    "%matplotlib inline\n",
    "%config InlineBackend.figure_format = 'retina'\n",
    "\n",
    "import helper\n",
    "import numpy as np\n",
    "\n",
    "# Explore the dataset\n",
    "batch_id = 3\n",
    "sample_id = 5\n",
    "helper.display_stats(cifar10_dataset_folder_path, batch_id, sample_id)"
   ]
  },
  {
   "cell_type": "markdown",
   "metadata": {
    "deletable": true,
    "editable": true
   },
   "source": [
    "## Implement Preprocess Functions\n",
    "### Normalize\n",
    "In the cell below, implement the `normalize` function to take in image data, `x`, and return it as a normalized Numpy array. The values should be in the range of 0 to 1, inclusive.  The return object should be the same shape as `x`."
   ]
  },
  {
   "cell_type": "code",
   "execution_count": 3,
   "metadata": {
    "collapsed": false,
    "deletable": true,
    "editable": true
   },
   "outputs": [
    {
     "name": "stdout",
     "output_type": "stream",
     "text": [
      "Tests Passed\n"
     ]
    }
   ],
   "source": [
    "def normalize(x):\n",
    "    \"\"\"\n",
    "    Normalize a list of sample image data in the range of 0 to 1\n",
    "    : x: List of image data.  The image shape is (32, 32, 3)\n",
    "    : return: Numpy array of normalize data\n",
    "    \"\"\"\n",
    "    return np.array(x)/255\n",
    "\n",
    "\n",
    "\"\"\"\n",
    "DON'T MODIFY ANYTHING IN THIS CELL THAT IS BELOW THIS LINE\n",
    "\"\"\"\n",
    "tests.test_normalize(normalize)"
   ]
  },
  {
   "cell_type": "markdown",
   "metadata": {
    "deletable": true,
    "editable": true
   },
   "source": [
    "### One-hot encode\n",
    "Just like the previous code cell, you'll be implementing a function for preprocessing.  This time, you'll implement the `one_hot_encode` function. The input, `x`, are a list of labels.  Implement the function to return the list of labels as One-Hot encoded Numpy array.  The possible values for labels are 0 to 9. The one-hot encoding function should return the same encoding for each value between each call to `one_hot_encode`.  Make sure to save the map of encodings outside the function.\n",
    "\n",
    "Hint: Don't reinvent the wheel."
   ]
  },
  {
   "cell_type": "code",
   "execution_count": 4,
   "metadata": {
    "collapsed": false,
    "deletable": true,
    "editable": true
   },
   "outputs": [
    {
     "name": "stdout",
     "output_type": "stream",
     "text": [
      "Tests Passed\n"
     ]
    }
   ],
   "source": [
    "import tensorflow as tf\n",
    "\n",
    "def one_hot_encode(x):\n",
    "    \"\"\"\n",
    "    One hot encode a list of sample labels. Return a one-hot encoded vector for each label.\n",
    "    : x: List of sample Labels\n",
    "    : return: Numpy array of one-hot encoded labels\n",
    "    \"\"\"\n",
    "    one_hot = np.array(tf.one_hot(x, 10).eval(session=tf.Session()))\n",
    "    return one_hot\n",
    "\n",
    "\n",
    "\"\"\"\n",
    "DON'T MODIFY ANYTHING IN THIS CELL THAT IS BELOW THIS LINE\n",
    "\"\"\"\n",
    "tests.test_one_hot_encode(one_hot_encode)"
   ]
  },
  {
   "cell_type": "markdown",
   "metadata": {
    "deletable": true,
    "editable": true
   },
   "source": [
    "### Randomize Data\n",
    "As you saw from exploring the data above, the order of the samples are randomized.  It doesn't hurt to randomize it again, but you don't need to for this dataset."
   ]
  },
  {
   "cell_type": "markdown",
   "metadata": {
    "deletable": true,
    "editable": true
   },
   "source": [
    "## Preprocess all the data and save it\n",
    "Running the code cell below will preprocess all the CIFAR-10 data and save it to file. The code below also uses 10% of the training data for validation."
   ]
  },
  {
   "cell_type": "code",
   "execution_count": 5,
   "metadata": {
    "collapsed": false,
    "deletable": true,
    "editable": true
   },
   "outputs": [],
   "source": [
    "\"\"\"\n",
    "DON'T MODIFY ANYTHING IN THIS CELL\n",
    "\"\"\"\n",
    "# Preprocess Training, Validation, and Testing Data\n",
    "helper.preprocess_and_save_data(cifar10_dataset_folder_path, normalize, one_hot_encode)"
   ]
  },
  {
   "cell_type": "markdown",
   "metadata": {
    "deletable": true,
    "editable": true
   },
   "source": [
    "# Check Point\n",
    "This is your first checkpoint.  If you ever decide to come back to this notebook or have to restart the notebook, you can start from here.  The preprocessed data has been saved to disk."
   ]
  },
  {
   "cell_type": "code",
   "execution_count": 1,
   "metadata": {
    "collapsed": true,
    "deletable": true,
    "editable": true
   },
   "outputs": [],
   "source": [
    "\"\"\"\n",
    "DON'T MODIFY ANYTHING IN THIS CELL\n",
    "\"\"\"\n",
    "import pickle\n",
    "import problem_unittests as tests\n",
    "import helper\n",
    "\n",
    "# Load the Preprocessed Validation data\n",
    "valid_features, valid_labels = pickle.load(open('preprocess_validation.p', mode='rb'))"
   ]
  },
  {
   "cell_type": "markdown",
   "metadata": {
    "deletable": true,
    "editable": true
   },
   "source": [
    "## Build the network\n",
    "For the neural network, you'll build each layer into a function.  Most of the code you've seen has been outside of functions. To test your code more thoroughly, we require that you put each layer in a function.  This allows us to give you better feedback and test for simple mistakes using our unittests before you submit your project.\n",
    "\n",
    ">**Note:** If you're finding it hard to dedicate enough time for this course each week, we've provided a small shortcut to this part of the project. In the next couple of problems, you'll have the option to use classes from the [TensorFlow Layers](https://www.tensorflow.org/api_docs/python/tf/layers) or [TensorFlow Layers (contrib)](https://www.tensorflow.org/api_guides/python/contrib.layers) packages to build each layer, except the layers you build in the \"Convolutional and Max Pooling Layer\" section.  TF Layers is similar to Keras's and TFLearn's abstraction to layers, so it's easy to pickup.\n",
    "\n",
    ">However, if you would like to get the most out of this course, try to solve all the problems _without_ using anything from the TF Layers packages. You **can** still use classes from other packages that happen to have the same name as ones you find in TF Layers! For example, instead of using the TF Layers version of the `conv2d` class, [tf.layers.conv2d](https://www.tensorflow.org/api_docs/python/tf/layers/conv2d), you would want to use the TF Neural Network version of `conv2d`, [tf.nn.conv2d](https://www.tensorflow.org/api_docs/python/tf/nn/conv2d). \n",
    "\n",
    "Let's begin!\n",
    "\n",
    "### Input\n",
    "The neural network needs to read the image data, one-hot encoded labels, and dropout keep probability. Implement the following functions\n",
    "* Implement `neural_net_image_input`\n",
    " * Return a [TF Placeholder](https://www.tensorflow.org/api_docs/python/tf/placeholder)\n",
    " * Set the shape using `image_shape` with batch size set to `None`.\n",
    " * Name the TensorFlow placeholder \"x\" using the TensorFlow `name` parameter in the [TF Placeholder](https://www.tensorflow.org/api_docs/python/tf/placeholder).\n",
    "* Implement `neural_net_label_input`\n",
    " * Return a [TF Placeholder](https://www.tensorflow.org/api_docs/python/tf/placeholder)\n",
    " * Set the shape using `n_classes` with batch size set to `None`.\n",
    " * Name the TensorFlow placeholder \"y\" using the TensorFlow `name` parameter in the [TF Placeholder](https://www.tensorflow.org/api_docs/python/tf/placeholder).\n",
    "* Implement `neural_net_keep_prob_input`\n",
    " * Return a [TF Placeholder](https://www.tensorflow.org/api_docs/python/tf/placeholder) for dropout keep probability.\n",
    " * Name the TensorFlow placeholder \"keep_prob\" using the TensorFlow `name` parameter in the [TF Placeholder](https://www.tensorflow.org/api_docs/python/tf/placeholder).\n",
    "\n",
    "These names will be used at the end of the project to load your saved model.\n",
    "\n",
    "Note: `None` for shapes in TensorFlow allow for a dynamic size."
   ]
  },
  {
   "cell_type": "code",
   "execution_count": 2,
   "metadata": {
    "collapsed": false,
    "deletable": true,
    "editable": true
   },
   "outputs": [
    {
     "name": "stdout",
     "output_type": "stream",
     "text": [
      "Image Input Tests Passed.\n",
      "Label Input Tests Passed.\n",
      "Keep Prob Tests Passed.\n"
     ]
    }
   ],
   "source": [
    "import tensorflow as tf\n",
    "\n",
    "def neural_net_image_input(image_shape):\n",
    "    \"\"\"\n",
    "    Return a Tensor for a batch of image input\n",
    "    : image_shape: Shape of the images\n",
    "    : return: Tensor for image input.\n",
    "    \"\"\"\n",
    "    # TODO: Implement Function\n",
    "    return tf.placeholder(tf.float32, [None] + list(image_shape), name='x')\n",
    "\n",
    "\n",
    "def neural_net_label_input(n_classes):\n",
    "    \"\"\"\n",
    "    Return a Tensor for a batch of label input\n",
    "    : n_classes: Number of classes\n",
    "    : return: Tensor for label input.\n",
    "    \"\"\"\n",
    "    # TODO: Implement Function\n",
    "    return tf.placeholder(tf.float32, [None, n_classes], name='y')\n",
    "\n",
    "\n",
    "def neural_net_keep_prob_input():\n",
    "    \"\"\"\n",
    "    Return a Tensor for keep probability\n",
    "    : return: Tensor for keep probability.\n",
    "    \"\"\"\n",
    "    # TODO: Implement Function\n",
    "    return tf.placeholder(tf.float32, name='keep_prob')\n",
    "\n",
    "\n",
    "\"\"\"\n",
    "DON'T MODIFY ANYTHING IN THIS CELL THAT IS BELOW THIS LINE\n",
    "\"\"\"\n",
    "tf.reset_default_graph()\n",
    "tests.test_nn_image_inputs(neural_net_image_input)\n",
    "tests.test_nn_label_inputs(neural_net_label_input)\n",
    "tests.test_nn_keep_prob_inputs(neural_net_keep_prob_input)"
   ]
  },
  {
   "cell_type": "markdown",
   "metadata": {
    "deletable": true,
    "editable": true
   },
   "source": [
    "### Convolution and Max Pooling Layer\n",
    "Convolution layers have a lot of success with images. For this code cell, you should implement the function `conv2d_maxpool` to apply convolution then max pooling:\n",
    "* Create the weight and bias using `conv_ksize`, `conv_num_outputs` and the shape of `x_tensor`.\n",
    "* Apply a convolution to `x_tensor` using weight and `conv_strides`.\n",
    " * We recommend you use same padding, but you're welcome to use any padding.\n",
    "* Add bias\n",
    "* Add a nonlinear activation to the convolution.\n",
    "* Apply Max Pooling using `pool_ksize` and `pool_strides`.\n",
    " * We recommend you use same padding, but you're welcome to use any padding.\n",
    "\n",
    "**Note:** You **can't** use [TensorFlow Layers](https://www.tensorflow.org/api_docs/python/tf/layers) or [TensorFlow Layers (contrib)](https://www.tensorflow.org/api_guides/python/contrib.layers) for **this** layer, but you can still use TensorFlow's [Neural Network](https://www.tensorflow.org/api_docs/python/tf/nn) package. You may still use the shortcut option for all the **other** layers."
   ]
  },
  {
   "cell_type": "code",
   "execution_count": 35,
   "metadata": {
    "collapsed": false,
    "deletable": true,
    "editable": true
   },
   "outputs": [
    {
     "name": "stdout",
     "output_type": "stream",
     "text": [
      "Tests Passed\n"
     ]
    }
   ],
   "source": [
    "def conv2d_maxpool(x_tensor, conv_num_outputs, conv_ksize, conv_strides, pool_ksize, pool_strides):\n",
    "    \"\"\"\n",
    "    Apply convolution then max pooling to x_tensor\n",
    "    :param x_tensor: TensorFlow Tensor\n",
    "    :param conv_num_outputs: Number of outputs for the convolutional layer\n",
    "    :param conv_ksize: kernal size 2-D Tuple for the convolutional layer\n",
    "    :param conv_strides: Stride 2-D Tuple for convolution\n",
    "    :param pool_ksize: kernal size 2-D Tuple for pool\n",
    "    :param pool_strides: Stride 2-D Tuple for pool\n",
    "    : return: A tensor that represents convolution and max pooling of x_tensor\n",
    "    \"\"\"\n",
    "    # Weight and bias\n",
    "    weight = tf.Variable(tf.truncated_normal([conv_ksize[0], conv_ksize[1], x_tensor.shape[-1].value, conv_num_outputs]\n",
    "                                             , mean=0.0, stddev=0.1))\n",
    "    bias = tf.Variable(tf.zeros(conv_num_outputs))\n",
    "\n",
    "    # Apply Convolution\n",
    "    conv_layer = tf.nn.conv2d(x_tensor, weight, strides=[1, conv_strides[0], conv_strides[1], 1], padding='VALID')\n",
    "    # Add bias\n",
    "    conv_layer = tf.nn.bias_add(conv_layer, bias)\n",
    "    # Apply activation function\n",
    "    conv_layer = tf.nn.relu(conv_layer)\n",
    "\n",
    "    pool_layer = tf.nn.max_pool(conv_layer, [1, pool_ksize[0], pool_ksize[1], 1], \n",
    "                                strides=[1, pool_strides[1], pool_strides[1], 1], padding='VALID')\n",
    "    return pool_layer\n",
    "\n",
    "\n",
    "\"\"\"\n",
    "DON'T MODIFY ANYTHING IN THIS CELL THAT IS BELOW THIS LINE\n",
    "\"\"\"\n",
    "tests.test_con_pool(conv2d_maxpool)"
   ]
  },
  {
   "cell_type": "markdown",
   "metadata": {
    "deletable": true,
    "editable": true
   },
   "source": [
    "### Flatten Layer\n",
    "Implement the `flatten` function to change the dimension of `x_tensor` from a 4-D tensor to a 2-D tensor.  The output should be the shape (*Batch Size*, *Flattened Image Size*). Shortcut option: you can use classes from the [TensorFlow Layers](https://www.tensorflow.org/api_docs/python/tf/layers) or [TensorFlow Layers (contrib)](https://www.tensorflow.org/api_guides/python/contrib.layers) packages for this layer. For more of a challenge, only use other TensorFlow packages."
   ]
  },
  {
   "cell_type": "code",
   "execution_count": 36,
   "metadata": {
    "collapsed": false,
    "deletable": true,
    "editable": true
   },
   "outputs": [
    {
     "name": "stdout",
     "output_type": "stream",
     "text": [
      "Tests Passed\n"
     ]
    }
   ],
   "source": [
    "def flatten(x_tensor):\n",
    "    \"\"\"\n",
    "    Flatten x_tensor to (Batch Size, Flattened Image Size)\n",
    "    : x_tensor: A tensor of size (Batch Size, ...), where ... are the image dimensions.\n",
    "    : return: A tensor of size (Batch Size, Flattened Image Size).\n",
    "    \"\"\"\n",
    "    # TODO: Implement Function\n",
    "    t = 1\n",
    "    for d in map(lambda d: d.value, x_tensor.shape[1:]):\n",
    "        t *= d\n",
    "    dim = [-1, t]\n",
    "    return tf.reshape(x_tensor, dim)\n",
    "\n",
    "\n",
    "\"\"\"\n",
    "DON'T MODIFY ANYTHING IN THIS CELL THAT IS BELOW THIS LINE\n",
    "\"\"\"\n",
    "tests.test_flatten(flatten)"
   ]
  },
  {
   "cell_type": "markdown",
   "metadata": {
    "deletable": true,
    "editable": true
   },
   "source": [
    "### Fully-Connected Layer\n",
    "Implement the `fully_conn` function to apply a fully connected layer to `x_tensor` with the shape (*Batch Size*, *num_outputs*). Shortcut option: you can use classes from the [TensorFlow Layers](https://www.tensorflow.org/api_docs/python/tf/layers) or [TensorFlow Layers (contrib)](https://www.tensorflow.org/api_guides/python/contrib.layers) packages for this layer. For more of a challenge, only use other TensorFlow packages."
   ]
  },
  {
   "cell_type": "code",
   "execution_count": 37,
   "metadata": {
    "collapsed": false,
    "deletable": true,
    "editable": true
   },
   "outputs": [
    {
     "name": "stdout",
     "output_type": "stream",
     "text": [
      "Tests Passed\n"
     ]
    }
   ],
   "source": [
    "def fully_conn(x_tensor, num_outputs):\n",
    "    \"\"\"\n",
    "    Apply a fully connected layer to x_tensor using weight and bias\n",
    "    : x_tensor: A 2-D tensor where the first dimension is batch size.\n",
    "    : num_outputs: The number of output that the new tensor should be.\n",
    "    : return: A 2-D tensor where the second dimension is num_outputs.\n",
    "    \"\"\"\n",
    "    # Weight and bias\n",
    "    weight = tf.Variable(tf.truncated_normal([x_tensor.shape[-1].value, num_outputs], mean=0.0, stddev=0.1))\n",
    "    bias = tf.Variable(tf.zeros(num_outputs))\n",
    "\n",
    "    # Apply Convolution\n",
    "    # Apply activation function\n",
    "    layer = tf.nn.relu_layer(x_tensor, weight, bias)\n",
    "    return layer\n",
    "\n",
    "\n",
    "\"\"\"\n",
    "DON'T MODIFY ANYTHING IN THIS CELL THAT IS BELOW THIS LINE\n",
    "\"\"\"\n",
    "tests.test_fully_conn(fully_conn)"
   ]
  },
  {
   "cell_type": "markdown",
   "metadata": {
    "deletable": true,
    "editable": true
   },
   "source": [
    "### Output Layer\n",
    "Implement the `output` function to apply a fully connected layer to `x_tensor` with the shape (*Batch Size*, *num_outputs*). Shortcut option: you can use classes from the [TensorFlow Layers](https://www.tensorflow.org/api_docs/python/tf/layers) or [TensorFlow Layers (contrib)](https://www.tensorflow.org/api_guides/python/contrib.layers) packages for this layer. For more of a challenge, only use other TensorFlow packages.\n",
    "\n",
    "**Note:** Activation, softmax, or cross entropy should **not** be applied to this."
   ]
  },
  {
   "cell_type": "code",
   "execution_count": 38,
   "metadata": {
    "collapsed": false,
    "deletable": true,
    "editable": true
   },
   "outputs": [
    {
     "name": "stdout",
     "output_type": "stream",
     "text": [
      "Tests Passed\n"
     ]
    }
   ],
   "source": [
    "def output(x_tensor, num_outputs):\n",
    "    \"\"\"\n",
    "    Apply a output layer to x_tensor using weight and bias\n",
    "    : x_tensor: A 2-D tensor where the first dimension is batch size.\n",
    "    : num_outputs: The number of output that the new tensor should be.\n",
    "    : return: A 2-D tensor where the second dimension is num_outputs.\n",
    "    \"\"\"\n",
    "    # Weight and bias\n",
    "    weight = tf.Variable(tf.truncated_normal([x_tensor.shape[-1].value, num_outputs], mean=0.0, stddev=0.1))\n",
    "    bias = tf.Variable(tf.zeros(num_outputs))\n",
    "\n",
    "    layer = tf.nn.bias_add(tf.matmul(x_tensor, weight), bias)\n",
    "    return layer\n",
    "\n",
    "\n",
    "\"\"\"\n",
    "DON'T MODIFY ANYTHING IN THIS CELL THAT IS BELOW THIS LINE\n",
    "\"\"\"\n",
    "tests.test_output(output)"
   ]
  },
  {
   "cell_type": "markdown",
   "metadata": {
    "deletable": true,
    "editable": true
   },
   "source": [
    "### Create Convolutional Model\n",
    "Implement the function `conv_net` to create a convolutional neural network model. The function takes in a batch of images, `x`, and outputs logits.  Use the layers you created above to create this model:\n",
    "\n",
    "* Apply 1, 2, or 3 Convolution and Max Pool layers\n",
    "* Apply a Flatten Layer\n",
    "* Apply 1, 2, or 3 Fully Connected Layers\n",
    "* Apply an Output Layer\n",
    "* Return the output\n",
    "* Apply [TensorFlow's Dropout](https://www.tensorflow.org/api_docs/python/tf/nn/dropout) to one or more layers in the model using `keep_prob`. "
   ]
  },
  {
   "cell_type": "code",
   "execution_count": 51,
   "metadata": {
    "collapsed": false,
    "deletable": true,
    "editable": true
   },
   "outputs": [
    {
     "name": "stdout",
     "output_type": "stream",
     "text": [
      "Neural Network Built!\n"
     ]
    }
   ],
   "source": [
    "def conv_net(x, keep_prob):\n",
    "    \"\"\"\n",
    "    Create a convolutional neural network model\n",
    "    : x: Placeholder tensor that holds image data.\n",
    "    : keep_prob: Placeholder tensor that hold dropout keep probability.\n",
    "    : return: Tensor that represents logits\n",
    "    \"\"\"\n",
    "    net = x\n",
    "    # TODO: Apply 1, 2, or 3 Convolution and Max Pool layers\n",
    "    #    Play around with different number of outputs, kernel size and stride\n",
    "    # Function Definition from Above:\n",
    "    net = conv2d_maxpool(net, 10, (3,3), (1,1), (2,2), (1,1))\n",
    "    net = conv2d_maxpool(net, 20, (3,3), (1,1), (2,2), (1,1))\n",
    "    # net = conv2d_maxpool(net, 30, (3,3), (1,1), (2,2), (1,1))\n",
    "    \n",
    "\n",
    "    # TODO: Apply a Flatten Layer\n",
    "    # Function Definition from Above:\n",
    "    flattened = flatten(net)\n",
    "    # flattened = tf.nn.dropout(flattened, keep_prob)\n",
    "\n",
    "    # TODO: Apply 1, 2, or 3 Fully Connected Layers\n",
    "    #    Play around with different number of outputs\n",
    "    # Function Definition from Above:\n",
    "    fc1 = fully_conn(flattened, 512)\n",
    "    fc1 = tf.nn.dropout(fc1, keep_prob)\n",
    "    \n",
    "    fc2 = fully_conn(fc1, 256)\n",
    "    # fc2 = tf.nn.dropout(fc2, keep_prob)\n",
    "    \n",
    "    fc3 = fully_conn(fc2, 128)\n",
    "    # fc3 = tf.nn.dropout(fc3, keep_prob)\n",
    "    \n",
    "    # TODO: Apply an Output Layer\n",
    "    #    Set this to the number of classes\n",
    "    # Function Definition from Above:\n",
    "    out = output(fc3, 10)\n",
    "    \n",
    "    # TODO: return output\n",
    "    return out\n",
    "\n",
    "\n",
    "\"\"\"\n",
    "DON'T MODIFY ANYTHING IN THIS CELL THAT IS BELOW THIS LINE\n",
    "\"\"\"\n",
    "\n",
    "##############################\n",
    "## Build the Neural Network ##\n",
    "##############################\n",
    "\n",
    "# Remove previous weights, bias, inputs, etc..\n",
    "tf.reset_default_graph()\n",
    "\n",
    "# Inputs\n",
    "x = neural_net_image_input((32, 32, 3))\n",
    "y = neural_net_label_input(10)\n",
    "keep_prob = neural_net_keep_prob_input()\n",
    "\n",
    "# Model\n",
    "logits = conv_net(x, keep_prob)\n",
    "\n",
    "# Name logits Tensor, so that is can be loaded from disk after training\n",
    "logits = tf.identity(logits, name='logits')\n",
    "\n",
    "# Loss and Optimizer\n",
    "cost = tf.reduce_mean(tf.nn.softmax_cross_entropy_with_logits(logits=logits, labels=y))\n",
    "optimizer = tf.train.AdamOptimizer().minimize(cost)\n",
    "\n",
    "# Accuracy\n",
    "correct_pred = tf.equal(tf.argmax(logits, 1), tf.argmax(y, 1))\n",
    "accuracy = tf.reduce_mean(tf.cast(correct_pred, tf.float32), name='accuracy')\n",
    "\n",
    "tests.test_conv_net(conv_net)"
   ]
  },
  {
   "cell_type": "markdown",
   "metadata": {
    "deletable": true,
    "editable": true
   },
   "source": [
    "## Train the Neural Network\n",
    "### Single Optimization\n",
    "Implement the function `train_neural_network` to do a single optimization.  The optimization should use `optimizer` to optimize in `session` with a `feed_dict` of the following:\n",
    "* `x` for image input\n",
    "* `y` for labels\n",
    "* `keep_prob` for keep probability for dropout\n",
    "\n",
    "This function will be called for each batch, so `tf.global_variables_initializer()` has already been called.\n",
    "\n",
    "Note: Nothing needs to be returned. This function is only optimizing the neural network."
   ]
  },
  {
   "cell_type": "code",
   "execution_count": 8,
   "metadata": {
    "collapsed": false,
    "deletable": true,
    "editable": true
   },
   "outputs": [
    {
     "name": "stdout",
     "output_type": "stream",
     "text": [
      "Tests Passed\n"
     ]
    }
   ],
   "source": [
    "def train_neural_network(session, optimizer, keep_probability, feature_batch, label_batch):\n",
    "    \"\"\"\n",
    "    Optimize the session on a batch of images and labels\n",
    "    : session: Current TensorFlow session\n",
    "    : optimizer: TensorFlow optimizer function\n",
    "    : keep_probability: keep probability\n",
    "    : feature_batch: Batch of Numpy image data\n",
    "    : label_batch: Batch of Numpy label data\n",
    "    \"\"\"\n",
    "    session.run(optimizer, feed_dict={\n",
    "                x: feature_batch,\n",
    "                y: label_batch,\n",
    "                keep_prob: keep_probability})\n",
    "\n",
    "\"\"\"\n",
    "DON'T MODIFY ANYTHING IN THIS CELL THAT IS BELOW THIS LINE\n",
    "\"\"\"\n",
    "tests.test_train_nn(train_neural_network)"
   ]
  },
  {
   "cell_type": "markdown",
   "metadata": {
    "deletable": true,
    "editable": true
   },
   "source": [
    "### Show Stats\n",
    "Implement the function `print_stats` to print loss and validation accuracy.  Use the global variables `valid_features` and `valid_labels` to calculate validation accuracy.  Use a keep probability of `1.0` to calculate the loss and validation accuracy."
   ]
  },
  {
   "cell_type": "code",
   "execution_count": 9,
   "metadata": {
    "collapsed": false,
    "deletable": true,
    "editable": true
   },
   "outputs": [],
   "source": [
    "def print_stats(session, feature_batch, label_batch, cost, accuracy, end='\\n'):\n",
    "    \"\"\"\n",
    "    Print information about loss and validation accuracy\n",
    "    : session: Current TensorFlow session\n",
    "    : feature_batch: Batch of Numpy image data\n",
    "    : label_batch: Batch of Numpy label data\n",
    "    : cost: TensorFlow cost function\n",
    "    : accuracy: TensorFlow accuracy function\n",
    "    \"\"\"\n",
    "    stats_cost= sess.run(cost, feed_dict={\n",
    "        x: valid_features,\n",
    "        y: valid_labels,\n",
    "        keep_prob: 1.0})\n",
    "    stats_acc = sess.run(accuracy, feed_dict={\n",
    "        x: valid_features,\n",
    "        y: valid_labels,\n",
    "        keep_prob: 1.0})\n",
    "    print(\"Cost:\", stats_cost, \"Acc:\", stats_acc, end=end)"
   ]
  },
  {
   "cell_type": "markdown",
   "metadata": {
    "deletable": true,
    "editable": true
   },
   "source": [
    "### Hyperparameters\n",
    "Tune the following parameters:\n",
    "* Set `epochs` to the number of iterations until the network stops learning or start overfitting\n",
    "* Set `batch_size` to the highest number that your machine has memory for.  Most people set them to common sizes of memory:\n",
    " * 64\n",
    " * 128\n",
    " * 256\n",
    " * ...\n",
    "* Set `keep_probability` to the probability of keeping a node using dropout"
   ]
  },
  {
   "cell_type": "code",
   "execution_count": 52,
   "metadata": {
    "collapsed": true,
    "deletable": true,
    "editable": true
   },
   "outputs": [],
   "source": [
    "# TODO: Tune Parameters\n",
    "epochs = 30\n",
    "batch_size = 1024\n",
    "keep_probability = 0.4"
   ]
  },
  {
   "cell_type": "markdown",
   "metadata": {
    "deletable": true,
    "editable": true
   },
   "source": [
    "### Train on a Single CIFAR-10 Batch\n",
    "Instead of training the neural network on all the CIFAR-10 batches of data, let's use a single batch. This should save time while you iterate on the model to get a better accuracy.  Once the final validation accuracy is 50% or greater, run the model on all the data in the next section."
   ]
  },
  {
   "cell_type": "code",
   "execution_count": 53,
   "metadata": {
    "collapsed": false,
    "deletable": true,
    "editable": true
   },
   "outputs": [
    {
     "name": "stdout",
     "output_type": "stream",
     "text": [
      "Checking the Training on a Single Batch...\n",
      "Epoch  1, CIFAR-10 Batch 1:  Cost: 2.23033 Acc: 0.2248 time: 2.535980448999908\n",
      "Epoch  2, CIFAR-10 Batch 1:  Cost: 1.96235 Acc: 0.3074 time: 2.509991369999625\n",
      "Epoch  3, CIFAR-10 Batch 1:  Cost: 1.77453 Acc: 0.3668 time: 2.507089407999956\n",
      "Epoch  4, CIFAR-10 Batch 1:  Cost: 1.64415 Acc: 0.3998 time: 2.516965466000329\n",
      "Epoch  5, CIFAR-10 Batch 1:  Cost: 1.55915 Acc: 0.4412 time: 2.5114109269998153\n",
      "Epoch  6, CIFAR-10 Batch 1:  Cost: 1.55568 Acc: 0.4416 time: 2.51453621499968\n",
      "Epoch  7, CIFAR-10 Batch 1:  Cost: 1.46625 Acc: 0.475 time: 2.5213728550006635\n",
      "Epoch  8, CIFAR-10 Batch 1:  Cost: 1.43265 Acc: 0.4894 time: 2.5109619089998887\n",
      "Epoch  9, CIFAR-10 Batch 1:  Cost: 1.39032 Acc: 0.501 time: 2.518789129000652\n",
      "Epoch 10, CIFAR-10 Batch 1:  Cost: 1.36651 Acc: 0.5144 time: 2.510863438999877\n",
      "Epoch 11, CIFAR-10 Batch 1:  Cost: 1.3473 Acc: 0.5238 time: 2.5179944680003246\n",
      "Epoch 12, CIFAR-10 Batch 1:  Cost: 1.34084 Acc: 0.5252 time: 2.5162024420005764\n",
      "Epoch 13, CIFAR-10 Batch 1:  Cost: 1.3308 Acc: 0.5318 time: 2.510778391999338\n",
      "Epoch 14, CIFAR-10 Batch 1:  Cost: 1.32827 Acc: 0.5292 time: 2.513070066999717\n",
      "Epoch 15, CIFAR-10 Batch 1:  Cost: 1.33967 Acc: 0.5316 time: 2.5151056030008476\n",
      "Epoch 16, CIFAR-10 Batch 1:  Cost: 1.42293 Acc: 0.5078 time: 2.5142000039995764\n",
      "Epoch 17, CIFAR-10 Batch 1:  Cost: 1.32006 Acc: 0.5444 time: 2.514484191999145\n",
      "Epoch 18, CIFAR-10 Batch 1:  Cost: 1.33795 Acc: 0.5402 time: 2.5168399730009696\n",
      "Epoch 19, CIFAR-10 Batch 1:  Cost: 1.34592 Acc: 0.5428 time: 2.5109817899992777\n",
      "Epoch 20, CIFAR-10 Batch 1:  Cost: 1.33453 Acc: 0.5566 time: 2.518230824998682\n",
      "Epoch 21, CIFAR-10 Batch 1:  Cost: 1.35792 Acc: 0.5498 time: 2.521674254001482\n",
      "Epoch 22, CIFAR-10 Batch 1:  Cost: 1.39888 Acc: 0.5504 time: 2.5212041419999878\n",
      "Epoch 23, CIFAR-10 Batch 1:  Cost: 1.419 Acc: 0.5522 time: 2.5168877109990717\n",
      "Epoch 24, CIFAR-10 Batch 1:  Cost: 1.46871 Acc: 0.5402 time: 2.5122304080014146\n",
      "Epoch 25, CIFAR-10 Batch 1:  Cost: 1.49943 Acc: 0.5364 time: 2.5132876280003984\n",
      "Epoch 26, CIFAR-10 Batch 1:  Cost: 1.6332 Acc: 0.521 time: 2.5141451220006275\n",
      "Epoch 27, CIFAR-10 Batch 1:  Cost: 1.50732 Acc: 0.547 time: 2.517731776999426\n",
      "Epoch 28, CIFAR-10 Batch 1:  Cost: 1.53471 Acc: 0.5518 time: 2.5142946729993128\n",
      "Epoch 29, CIFAR-10 Batch 1:  Cost: 1.5314 Acc: 0.5604 time: 2.5146876359995076\n",
      "Epoch 30, CIFAR-10 Batch 1:  Cost: 1.55129 Acc: 0.5608 time: 2.511491373001263\n"
     ]
    }
   ],
   "source": [
    "import timeit\n",
    "\"\"\"\n",
    "DON'T MODIFY ANYTHING IN THIS CELL\n",
    "\"\"\"\n",
    "print('Checking the Training on a Single Batch...')\n",
    "with tf.Session() as sess:\n",
    "    # Initializing the variables\n",
    "    sess.run(tf.global_variables_initializer())\n",
    "    \n",
    "    # Training cycle\n",
    "    for epoch in range(epochs):\n",
    "        batch_i = 1\n",
    "        start = timeit.default_timer()\n",
    "        for batch_features, batch_labels in helper.load_preprocess_training_batch(batch_i, batch_size):\n",
    "            train_neural_network(sess, optimizer, keep_probability, batch_features, batch_labels)\n",
    "        print('Epoch {:>2}, CIFAR-10 Batch {}:  '.format(epoch + 1, batch_i), end='')\n",
    "        print_stats(sess, batch_features, batch_labels, cost, accuracy, end='')\n",
    "        end = timeit.default_timer()\n",
    "        print(\" time:\", end-start)\n"
   ]
  },
  {
   "cell_type": "markdown",
   "metadata": {
    "deletable": true,
    "editable": true
   },
   "source": [
    "### Fully Train the Model\n",
    "Now that you got a good accuracy with a single CIFAR-10 batch, try it with all five batches."
   ]
  },
  {
   "cell_type": "code",
   "execution_count": 54,
   "metadata": {
    "collapsed": false,
    "deletable": true,
    "editable": true
   },
   "outputs": [
    {
     "name": "stdout",
     "output_type": "stream",
     "text": [
      "Training...\n",
      "Epoch  1, CIFAR-10 Batch 1:  Cost: 2.27921 Acc: 0.1312\n",
      "Epoch  1, CIFAR-10 Batch 2:  Cost: 2.18264 Acc: 0.1774\n",
      "Epoch  1, CIFAR-10 Batch 3:  Cost: 2.04958 Acc: 0.2268\n",
      "Epoch  1, CIFAR-10 Batch 4:  Cost: 1.96178 Acc: 0.2654\n",
      "Epoch  1, CIFAR-10 Batch 5:  Cost: 1.84151 Acc: 0.3384\n",
      "Epoch  2, CIFAR-10 Batch 1:  Cost: 1.73969 Acc: 0.3644\n",
      "Epoch  2, CIFAR-10 Batch 2:  Cost: 1.69532 Acc: 0.3874\n",
      "Epoch  2, CIFAR-10 Batch 3:  Cost: 1.61566 Acc: 0.409\n",
      "Epoch  2, CIFAR-10 Batch 4:  Cost: 1.58294 Acc: 0.436\n",
      "Epoch  2, CIFAR-10 Batch 5:  Cost: 1.52568 Acc: 0.4388\n",
      "Epoch  3, CIFAR-10 Batch 1:  Cost: 1.50442 Acc: 0.4512\n",
      "Epoch  3, CIFAR-10 Batch 2:  Cost: 1.51339 Acc: 0.4488\n",
      "Epoch  3, CIFAR-10 Batch 3:  Cost: 1.43237 Acc: 0.476\n",
      "Epoch  3, CIFAR-10 Batch 4:  Cost: 1.41488 Acc: 0.4844\n",
      "Epoch  3, CIFAR-10 Batch 5:  Cost: 1.40601 Acc: 0.4876\n",
      "Epoch  4, CIFAR-10 Batch 1:  Cost: 1.36598 Acc: 0.5028\n",
      "Epoch  4, CIFAR-10 Batch 2:  Cost: 1.39946 Acc: 0.4976\n",
      "Epoch  4, CIFAR-10 Batch 3:  Cost: 1.3553 Acc: 0.5088\n",
      "Epoch  4, CIFAR-10 Batch 4:  Cost: 1.33481 Acc: 0.5198\n",
      "Epoch  4, CIFAR-10 Batch 5:  Cost: 1.32758 Acc: 0.5178\n",
      "Epoch  5, CIFAR-10 Batch 1:  Cost: 1.30496 Acc: 0.5346\n",
      "Epoch  5, CIFAR-10 Batch 2:  Cost: 1.29267 Acc: 0.5374\n",
      "Epoch  5, CIFAR-10 Batch 3:  Cost: 1.27636 Acc: 0.5372\n",
      "Epoch  5, CIFAR-10 Batch 4:  Cost: 1.2694 Acc: 0.5428\n",
      "Epoch  5, CIFAR-10 Batch 5:  Cost: 1.26666 Acc: 0.5414\n",
      "Epoch  6, CIFAR-10 Batch 1:  Cost: 1.23377 Acc: 0.5616\n",
      "Epoch  6, CIFAR-10 Batch 2:  Cost: 1.23825 Acc: 0.558\n",
      "Epoch  6, CIFAR-10 Batch 3:  Cost: 1.22728 Acc: 0.5616\n",
      "Epoch  6, CIFAR-10 Batch 4:  Cost: 1.23116 Acc: 0.5584\n",
      "Epoch  6, CIFAR-10 Batch 5:  Cost: 1.21127 Acc: 0.5634\n",
      "Epoch  7, CIFAR-10 Batch 1:  Cost: 1.19674 Acc: 0.5724\n",
      "Epoch  7, CIFAR-10 Batch 2:  Cost: 1.1927 Acc: 0.5722\n",
      "Epoch  7, CIFAR-10 Batch 3:  Cost: 1.18699 Acc: 0.5762\n",
      "Epoch  7, CIFAR-10 Batch 4:  Cost: 1.19104 Acc: 0.5722\n",
      "Epoch  7, CIFAR-10 Batch 5:  Cost: 1.16356 Acc: 0.5798\n",
      "Epoch  8, CIFAR-10 Batch 1:  Cost: 1.16232 Acc: 0.587\n",
      "Epoch  8, CIFAR-10 Batch 2:  Cost: 1.18011 Acc: 0.5814\n",
      "Epoch  8, CIFAR-10 Batch 3:  Cost: 1.15503 Acc: 0.5842\n",
      "Epoch  8, CIFAR-10 Batch 4:  Cost: 1.15345 Acc: 0.5878\n",
      "Epoch  8, CIFAR-10 Batch 5:  Cost: 1.14067 Acc: 0.5876\n",
      "Epoch  9, CIFAR-10 Batch 1:  Cost: 1.12542 Acc: 0.5988\n",
      "Epoch  9, CIFAR-10 Batch 2:  Cost: 1.13429 Acc: 0.5934\n",
      "Epoch  9, CIFAR-10 Batch 3:  Cost: 1.1176 Acc: 0.601\n",
      "Epoch  9, CIFAR-10 Batch 4:  Cost: 1.10984 Acc: 0.6096\n",
      "Epoch  9, CIFAR-10 Batch 5:  Cost: 1.10907 Acc: 0.6104\n",
      "Epoch 10, CIFAR-10 Batch 1:  Cost: 1.10319 Acc: 0.6084\n",
      "Epoch 10, CIFAR-10 Batch 2:  Cost: 1.1133 Acc: 0.6056\n",
      "Epoch 10, CIFAR-10 Batch 3:  Cost: 1.13462 Acc: 0.5994\n",
      "Epoch 10, CIFAR-10 Batch 4:  Cost: 1.12159 Acc: 0.6076\n",
      "Epoch 10, CIFAR-10 Batch 5:  Cost: 1.10132 Acc: 0.6072\n",
      "Epoch 11, CIFAR-10 Batch 1:  Cost: 1.08779 Acc: 0.6182\n",
      "Epoch 11, CIFAR-10 Batch 2:  Cost: 1.07093 Acc: 0.6188\n",
      "Epoch 11, CIFAR-10 Batch 3:  Cost: 1.11955 Acc: 0.6106\n",
      "Epoch 11, CIFAR-10 Batch 4:  Cost: 1.12693 Acc: 0.6072\n",
      "Epoch 11, CIFAR-10 Batch 5:  Cost: 1.07712 Acc: 0.6122\n",
      "Epoch 12, CIFAR-10 Batch 1:  Cost: 1.07404 Acc: 0.6254\n",
      "Epoch 12, CIFAR-10 Batch 2:  Cost: 1.05537 Acc: 0.6288\n",
      "Epoch 12, CIFAR-10 Batch 3:  Cost: 1.07908 Acc: 0.6182\n",
      "Epoch 12, CIFAR-10 Batch 4:  Cost: 1.0726 Acc: 0.6224\n",
      "Epoch 12, CIFAR-10 Batch 5:  Cost: 1.0609 Acc: 0.621\n",
      "Epoch 13, CIFAR-10 Batch 1:  Cost: 1.05651 Acc: 0.6316\n",
      "Epoch 13, CIFAR-10 Batch 2:  Cost: 1.05294 Acc: 0.6278\n",
      "Epoch 13, CIFAR-10 Batch 3:  Cost: 1.09413 Acc: 0.6198\n",
      "Epoch 13, CIFAR-10 Batch 4:  Cost: 1.05624 Acc: 0.6304\n",
      "Epoch 13, CIFAR-10 Batch 5:  Cost: 1.03161 Acc: 0.6338\n",
      "Epoch 14, CIFAR-10 Batch 1:  Cost: 1.03173 Acc: 0.6362\n",
      "Epoch 14, CIFAR-10 Batch 2:  Cost: 1.0285 Acc: 0.6408\n",
      "Epoch 14, CIFAR-10 Batch 3:  Cost: 1.05158 Acc: 0.6352\n",
      "Epoch 14, CIFAR-10 Batch 4:  Cost: 1.04155 Acc: 0.6408\n",
      "Epoch 14, CIFAR-10 Batch 5:  Cost: 1.04242 Acc: 0.6392\n",
      "Epoch 15, CIFAR-10 Batch 1:  Cost: 1.04762 Acc: 0.638\n",
      "Epoch 15, CIFAR-10 Batch 2:  Cost: 1.01237 Acc: 0.6442\n",
      "Epoch 15, CIFAR-10 Batch 3:  Cost: 1.03366 Acc: 0.6412\n",
      "Epoch 15, CIFAR-10 Batch 4:  Cost: 1.04756 Acc: 0.6364\n",
      "Epoch 15, CIFAR-10 Batch 5:  Cost: 1.02097 Acc: 0.6444\n",
      "Epoch 16, CIFAR-10 Batch 1:  Cost: 1.02882 Acc: 0.6436\n",
      "Epoch 16, CIFAR-10 Batch 2:  Cost: 1.0178 Acc: 0.6486\n",
      "Epoch 16, CIFAR-10 Batch 3:  Cost: 1.03485 Acc: 0.646\n",
      "Epoch 16, CIFAR-10 Batch 4:  Cost: 1.0234 Acc: 0.6458\n",
      "Epoch 16, CIFAR-10 Batch 5:  Cost: 1.01137 Acc: 0.6452\n",
      "Epoch 17, CIFAR-10 Batch 1:  Cost: 1.00972 Acc: 0.6514\n",
      "Epoch 17, CIFAR-10 Batch 2:  Cost: 1.01436 Acc: 0.6476\n",
      "Epoch 17, CIFAR-10 Batch 3:  Cost: 1.06427 Acc: 0.639\n",
      "Epoch 17, CIFAR-10 Batch 4:  Cost: 1.04233 Acc: 0.6356\n",
      "Epoch 17, CIFAR-10 Batch 5:  Cost: 1.02694 Acc: 0.6464\n",
      "Epoch 18, CIFAR-10 Batch 1:  Cost: 1.00892 Acc: 0.6526\n",
      "Epoch 18, CIFAR-10 Batch 2:  Cost: 1.02067 Acc: 0.6462\n",
      "Epoch 18, CIFAR-10 Batch 3:  Cost: 1.05904 Acc: 0.6442\n",
      "Epoch 18, CIFAR-10 Batch 4:  Cost: 1.01302 Acc: 0.6502\n",
      "Epoch 18, CIFAR-10 Batch 5:  Cost: 1.02396 Acc: 0.6502\n",
      "Epoch 19, CIFAR-10 Batch 1:  Cost: 1.00227 Acc: 0.6552\n",
      "Epoch 19, CIFAR-10 Batch 2:  Cost: 1.02092 Acc: 0.652\n",
      "Epoch 19, CIFAR-10 Batch 3:  Cost: 1.05893 Acc: 0.6414\n",
      "Epoch 19, CIFAR-10 Batch 4:  Cost: 1.00674 Acc: 0.6528\n",
      "Epoch 19, CIFAR-10 Batch 5:  Cost: 1.02698 Acc: 0.6522\n",
      "Epoch 20, CIFAR-10 Batch 1:  Cost: 1.03263 Acc: 0.651\n",
      "Epoch 20, CIFAR-10 Batch 2:  Cost: 1.03441 Acc: 0.643\n",
      "Epoch 20, CIFAR-10 Batch 3:  Cost: 1.08015 Acc: 0.6406\n",
      "Epoch 20, CIFAR-10 Batch 4:  Cost: 1.02448 Acc: 0.6486\n",
      "Epoch 20, CIFAR-10 Batch 5:  Cost: 1.09049 Acc: 0.6296\n",
      "Epoch 21, CIFAR-10 Batch 1:  Cost: 1.01664 Acc: 0.649\n",
      "Epoch 21, CIFAR-10 Batch 2:  Cost: 1.05581 Acc: 0.6386\n",
      "Epoch 21, CIFAR-10 Batch 3:  Cost: 1.09459 Acc: 0.6348\n",
      "Epoch 21, CIFAR-10 Batch 4:  Cost: 1.03846 Acc: 0.6508\n",
      "Epoch 21, CIFAR-10 Batch 5:  Cost: 1.0413 Acc: 0.6524\n",
      "Epoch 22, CIFAR-10 Batch 1:  Cost: 1.03496 Acc: 0.6436\n",
      "Epoch 22, CIFAR-10 Batch 2:  Cost: 1.04312 Acc: 0.6406\n",
      "Epoch 22, CIFAR-10 Batch 3:  Cost: 1.06326 Acc: 0.6396\n",
      "Epoch 22, CIFAR-10 Batch 4:  Cost: 1.01442 Acc: 0.6598\n",
      "Epoch 22, CIFAR-10 Batch 5:  Cost: 1.04885 Acc: 0.6488\n",
      "Epoch 23, CIFAR-10 Batch 1:  Cost: 0.999467 Acc: 0.6624\n",
      "Epoch 23, CIFAR-10 Batch 2:  Cost: 1.02874 Acc: 0.6592\n",
      "Epoch 23, CIFAR-10 Batch 3:  Cost: 1.02443 Acc: 0.6582\n",
      "Epoch 23, CIFAR-10 Batch 4:  Cost: 1.03932 Acc: 0.6576\n",
      "Epoch 23, CIFAR-10 Batch 5:  Cost: 1.04947 Acc: 0.6564\n",
      "Epoch 24, CIFAR-10 Batch 1:  Cost: 1.01877 Acc: 0.6678\n",
      "Epoch 24, CIFAR-10 Batch 2:  Cost: 1.03529 Acc: 0.658\n",
      "Epoch 24, CIFAR-10 Batch 3:  Cost: 1.04442 Acc: 0.6554\n",
      "Epoch 24, CIFAR-10 Batch 4:  Cost: 1.0249 Acc: 0.6584\n",
      "Epoch 24, CIFAR-10 Batch 5:  Cost: 1.03117 Acc: 0.6594\n",
      "Epoch 25, CIFAR-10 Batch 1:  Cost: 1.03513 Acc: 0.662\n",
      "Epoch 25, CIFAR-10 Batch 2:  Cost: 1.02535 Acc: 0.6596\n",
      "Epoch 25, CIFAR-10 Batch 3:  Cost: 1.05435 Acc: 0.6558\n",
      "Epoch 25, CIFAR-10 Batch 4:  Cost: 1.00808 Acc: 0.6606\n",
      "Epoch 25, CIFAR-10 Batch 5:  Cost: 1.03519 Acc: 0.6616\n",
      "Epoch 26, CIFAR-10 Batch 1:  Cost: 1.01605 Acc: 0.6702\n",
      "Epoch 26, CIFAR-10 Batch 2:  Cost: 1.04516 Acc: 0.6574\n",
      "Epoch 26, CIFAR-10 Batch 3:  Cost: 1.03903 Acc: 0.6584\n",
      "Epoch 26, CIFAR-10 Batch 4:  Cost: 1.02932 Acc: 0.6574\n",
      "Epoch 26, CIFAR-10 Batch 5:  Cost: 1.06601 Acc: 0.6606\n",
      "Epoch 27, CIFAR-10 Batch 1:  Cost: 1.03486 Acc: 0.6686\n",
      "Epoch 27, CIFAR-10 Batch 2:  Cost: 1.05434 Acc: 0.6558\n",
      "Epoch 27, CIFAR-10 Batch 3:  Cost: 1.07359 Acc: 0.65\n",
      "Epoch 27, CIFAR-10 Batch 4:  Cost: 1.01697 Acc: 0.6666\n",
      "Epoch 27, CIFAR-10 Batch 5:  Cost: 1.05586 Acc: 0.6634\n",
      "Epoch 28, CIFAR-10 Batch 1:  Cost: 1.05456 Acc: 0.6606\n",
      "Epoch 28, CIFAR-10 Batch 2:  Cost: 1.08377 Acc: 0.6558\n",
      "Epoch 28, CIFAR-10 Batch 3:  Cost: 1.09045 Acc: 0.6506\n",
      "Epoch 28, CIFAR-10 Batch 4:  Cost: 1.04092 Acc: 0.6632\n",
      "Epoch 28, CIFAR-10 Batch 5:  Cost: 1.05459 Acc: 0.6644\n",
      "Epoch 29, CIFAR-10 Batch 1:  Cost: 1.05086 Acc: 0.6624\n",
      "Epoch 29, CIFAR-10 Batch 2:  Cost: 1.0676 Acc: 0.6552\n",
      "Epoch 29, CIFAR-10 Batch 3:  Cost: 1.07764 Acc: 0.6566\n",
      "Epoch 29, CIFAR-10 Batch 4:  Cost: 1.03127 Acc: 0.6672\n",
      "Epoch 29, CIFAR-10 Batch 5:  Cost: 1.05262 Acc: 0.6642\n",
      "Epoch 30, CIFAR-10 Batch 1:  Cost: 1.08191 Acc: 0.662\n",
      "Epoch 30, CIFAR-10 Batch 2:  Cost: 1.07141 Acc: 0.6552\n",
      "Epoch 30, CIFAR-10 Batch 3:  Cost: 1.08628 Acc: 0.6544\n",
      "Epoch 30, CIFAR-10 Batch 4:  Cost: 1.02888 Acc: 0.6708\n",
      "Epoch 30, CIFAR-10 Batch 5:  Cost: 1.04384 Acc: 0.6692\n"
     ]
    }
   ],
   "source": [
    "\"\"\"\n",
    "DON'T MODIFY ANYTHING IN THIS CELL\n",
    "\"\"\"\n",
    "save_model_path = './image_classification'\n",
    "\n",
    "print('Training...')\n",
    "with tf.Session() as sess:\n",
    "    # Initializing the variables\n",
    "    sess.run(tf.global_variables_initializer())\n",
    "    \n",
    "    # Training cycle\n",
    "    for epoch in range(epochs):\n",
    "        # Loop over all batches\n",
    "        n_batches = 5\n",
    "        for batch_i in range(1, n_batches + 1):\n",
    "            for batch_features, batch_labels in helper.load_preprocess_training_batch(batch_i, batch_size):\n",
    "                train_neural_network(sess, optimizer, keep_probability, batch_features, batch_labels)\n",
    "            print('Epoch {:>2}, CIFAR-10 Batch {}:  '.format(epoch + 1, batch_i), end='')\n",
    "            print_stats(sess, batch_features, batch_labels, cost, accuracy)\n",
    "            \n",
    "    # Save Model\n",
    "    saver = tf.train.Saver()\n",
    "    save_path = saver.save(sess, save_model_path)"
   ]
  },
  {
   "cell_type": "markdown",
   "metadata": {
    "deletable": true,
    "editable": true
   },
   "source": [
    "# Checkpoint\n",
    "The model has been saved to disk.\n",
    "## Test Model\n",
    "Test your model against the test dataset.  This will be your final accuracy. You should have an accuracy greater than 50%. If you don't, keep tweaking the model architecture and parameters."
   ]
  },
  {
   "cell_type": "code",
   "execution_count": 55,
   "metadata": {
    "collapsed": false,
    "deletable": true,
    "editable": true
   },
   "outputs": [
    {
     "name": "stdout",
     "output_type": "stream",
     "text": [
      "Testing Accuracy: 0.6664779961109162\n",
      "\n"
     ]
    },
    {
     "data": {
      "image/png": "[encoded data removed]",
      "text/plain": [
       "<matplotlib.figure.Figure at 0x7fcb42f30f60>"
      ]
     },
     "metadata": {
      "image/png": {
       "height": 319,
       "width": 355
      }
     },
     "output_type": "display_data"
    }
   ],
   "source": [
    "\"\"\"\n",
    "DON'T MODIFY ANYTHING IN THIS CELL\n",
    "\"\"\"\n",
    "%matplotlib inline\n",
    "%config InlineBackend.figure_format = 'retina'\n",
    "\n",
    "import tensorflow as tf\n",
    "import pickle\n",
    "import helper\n",
    "import random\n",
    "\n",
    "# Set batch size if not already set\n",
    "try:\n",
    "    if batch_size:\n",
    "        pass\n",
    "except NameError:\n",
    "    batch_size = 64\n",
    "\n",
    "save_model_path = './image_classification'\n",
    "n_samples = 4\n",
    "top_n_predictions = 3\n",
    "\n",
    "def test_model():\n",
    "    \"\"\"\n",
    "    Test the saved model against the test dataset\n",
    "    \"\"\"\n",
    "\n",
    "    test_features, test_labels = pickle.load(open('preprocess_training.p', mode='rb'))\n",
    "    loaded_graph = tf.Graph()\n",
    "\n",
    "    with tf.Session(graph=loaded_graph) as sess:\n",
    "        # Load model\n",
    "        loader = tf.train.import_meta_graph(save_model_path + '.meta')\n",
    "        loader.restore(sess, save_model_path)\n",
    "\n",
    "        # Get Tensors from loaded model\n",
    "        loaded_x = loaded_graph.get_tensor_by_name('x:0')\n",
    "        loaded_y = loaded_graph.get_tensor_by_name('y:0')\n",
    "        loaded_keep_prob = loaded_graph.get_tensor_by_name('keep_prob:0')\n",
    "        loaded_logits = loaded_graph.get_tensor_by_name('logits:0')\n",
    "        loaded_acc = loaded_graph.get_tensor_by_name('accuracy:0')\n",
    "        \n",
    "        # Get accuracy in batches for memory limitations\n",
    "        test_batch_acc_total = 0\n",
    "        test_batch_count = 0\n",
    "        \n",
    "        for train_feature_batch, train_label_batch in helper.batch_features_labels(test_features, test_labels, batch_size):\n",
    "            test_batch_acc_total += sess.run(\n",
    "                loaded_acc,\n",
    "                feed_dict={loaded_x: train_feature_batch, loaded_y: train_label_batch, loaded_keep_prob: 1.0})\n",
    "            test_batch_count += 1\n",
    "\n",
    "        print('Testing Accuracy: {}\\n'.format(test_batch_acc_total/test_batch_count))\n",
    "\n",
    "        # Print Random Samples\n",
    "        random_test_features, random_test_labels = tuple(zip(*random.sample(list(zip(test_features, test_labels)), n_samples)))\n",
    "        random_test_predictions = sess.run(\n",
    "            tf.nn.top_k(tf.nn.softmax(loaded_logits), top_n_predictions),\n",
    "            feed_dict={loaded_x: random_test_features, loaded_y: random_test_labels, loaded_keep_prob: 1.0})\n",
    "        helper.display_image_predictions(random_test_features, random_test_labels, random_test_predictions)\n",
    "\n",
    "\n",
    "test_model()"
   ]
  },
  {
   "cell_type": "markdown",
   "metadata": {
    "deletable": true,
    "editable": true
   },
   "source": [
    "## Why 50-80% Accuracy?\n",
    "You might be wondering why you can't get an accuracy any higher. First things first, 50% isn't bad for a simple CNN.  Pure guessing would get you 10% accuracy. However, you might notice people are getting scores [well above 80%](http://rodrigob.github.io/are_we_there_yet/build/classification_datasets_results.html#43494641522d3130).  That's because we haven't taught you all there is to know about neural networks. We still need to cover a few more techniques.\n",
    "## Submitting This Project\n",
    "When submitting this project, make sure to run all the cells before saving the notebook.  Save the notebook file as \"dlnd_image_classification.ipynb\" and save it as a HTML file under \"File\" -> \"Download as\".  Include the \"helper.py\" and \"problem_unittests.py\" files in your submission."
   ]
  }
 ],
 "metadata": {
  "anaconda-cloud": {},
  "kernelspec": {
   "display_name": "Python 3",
   "language": "python",
   "name": "python3"
  },
  "language_info": {
   "codemirror_mode": {
    "name": "ipython",
    "version": 3
   },
   "file_extension": ".py",
   "mimetype": "text/x-python",
   "name": "python",
   "nbconvert_exporter": "python",
   "pygments_lexer": "ipython3",
   "version": "3.5.2"
  },
  "widgets": {
   "state": {},
   "version": "1.1.2"
  }
 },
 "nbformat": 4,
 "nbformat_minor": 0
}
